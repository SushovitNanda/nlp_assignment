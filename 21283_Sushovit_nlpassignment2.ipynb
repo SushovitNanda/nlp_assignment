{
  "cells": [
    {
      "cell_type": "markdown",
      "source": [
        "# Loading relevant Libraries"
      ],
      "metadata": {
        "id": "QcoelGcx1iqj"
      }
    },
    {
      "cell_type": "code",
      "source": [
        "import pandas as pd\n",
        "import matplotlib.pyplot as plt\n",
        "import seaborn as sns\n",
        "import numpy as np\n",
        "import torch\n",
        "import torch.nn as nn\n",
        "import torch.optim as optim\n",
        "import random\n",
        "import re\n",
        "import nltk\n",
        "from nltk.corpus import stopwords\n",
        "from nltk.stem import WordNetLemmatizer\n",
        "from nltk.tokenize import word_tokenize\n",
        "from collections import Counter\n",
        "from itertools import chain\n",
        "from sklearn.metrics import f1_score, classification_report\n",
        "from torch.utils.data import DataLoader, TensorDataset\n",
        "import requests\n",
        "import io\n",
        "# NLTK setup\n",
        "nltk.download('punkt')\n",
        "nltk.download('stopwords')\n",
        "nltk.download('wordnet')\n",
        "\n",
        "# Check if GPU is available\n",
        "DEVICE = torch.device(\"cuda\" if torch.cuda.is_available() else \"cpu\")\n",
        "device = torch.device(\"cuda\" if torch.cuda.is_available() else \"cpu\")"
      ],
      "metadata": {
        "colab": {
          "base_uri": "https://localhost:8080/"
        },
        "id": "OMuuVIKA1iKO",
        "outputId": "b8816283-5a89-47b8-b375-df476cfc0539"
      },
      "execution_count": 11,
      "outputs": [
        {
          "output_type": "stream",
          "name": "stderr",
          "text": [
            "[nltk_data] Downloading package punkt to /root/nltk_data...\n",
            "[nltk_data]   Package punkt is already up-to-date!\n",
            "[nltk_data] Downloading package stopwords to /root/nltk_data...\n",
            "[nltk_data]   Package stopwords is already up-to-date!\n",
            "[nltk_data] Downloading package wordnet to /root/nltk_data...\n",
            "[nltk_data]   Package wordnet is already up-to-date!\n"
          ]
        }
      ]
    },
    {
      "cell_type": "markdown",
      "source": [
        "# Loading The datasets"
      ],
      "metadata": {
        "id": "l5xid6kX2Gg_"
      }
    },
    {
      "cell_type": "code",
      "source": [
        "# Download datasets using wget\n",
        "!wget https://raw.githubusercontent.com/debajyotimaz/nlp_assignment/main/train_split.csv\n",
        "!wget https://raw.githubusercontent.com/debajyotimaz/nlp_assignment/main/test_split.csv\n",
        "\n",
        "# Load datasets from the downloaded files\n",
        "train_data = pd.read_csv('train_split.csv')\n",
        "test_data = pd.read_csv('test_split.csv')"
      ],
      "metadata": {
        "colab": {
          "base_uri": "https://localhost:8080/"
        },
        "id": "HL61AjO42LgJ",
        "outputId": "50ff9f18-9f17-4c67-be1c-3911fa732a53"
      },
      "execution_count": 2,
      "outputs": [
        {
          "output_type": "stream",
          "name": "stdout",
          "text": [
            "--2024-10-16 15:24:11--  https://raw.githubusercontent.com/debajyotimaz/nlp_assignment/main/train_split.csv\n",
            "Resolving raw.githubusercontent.com (raw.githubusercontent.com)... 185.199.110.133, 185.199.111.133, 185.199.108.133, ...\n",
            "Connecting to raw.githubusercontent.com (raw.githubusercontent.com)|185.199.110.133|:443... connected.\n",
            "HTTP request sent, awaiting response... 200 OK\n",
            "Length: 144474 (141K) [text/plain]\n",
            "Saving to: ‘train_split.csv’\n",
            "\n",
            "\rtrain_split.csv       0%[                    ]       0  --.-KB/s               \rtrain_split.csv     100%[===================>] 141.09K  --.-KB/s    in 0.02s   \n",
            "\n",
            "2024-10-16 15:24:12 (6.29 MB/s) - ‘train_split.csv’ saved [144474/144474]\n",
            "\n",
            "--2024-10-16 15:24:12--  https://raw.githubusercontent.com/debajyotimaz/nlp_assignment/main/test_split.csv\n",
            "Resolving raw.githubusercontent.com (raw.githubusercontent.com)... 185.199.108.133, 185.199.109.133, 185.199.110.133, ...\n",
            "Connecting to raw.githubusercontent.com (raw.githubusercontent.com)|185.199.108.133|:443... connected.\n",
            "HTTP request sent, awaiting response... 200 OK\n",
            "Length: 35259 (34K) [text/plain]\n",
            "Saving to: ‘test_split.csv’\n",
            "\n",
            "test_split.csv      100%[===================>]  34.43K  --.-KB/s    in 0.01s   \n",
            "\n",
            "2024-10-16 15:24:12 (3.00 MB/s) - ‘test_split.csv’ saved [35259/35259]\n",
            "\n"
          ]
        }
      ]
    },
    {
      "cell_type": "markdown",
      "source": [
        "# Datasets' Information"
      ],
      "metadata": {
        "id": "ovkY2Vog2h1x"
      }
    },
    {
      "cell_type": "code",
      "source": [
        "# Basic EDA: Check for missing values\n",
        "print(\"Missing values in training set:\\n\", train_data.isnull().sum())\n",
        "print(\"Missing values in test set:\\n\", test_data.isnull().sum())\n",
        "\n",
        "# Emotions column names\n",
        "emotions = ['Joy', 'Fear', 'Anger', 'Sadness', 'Surprise']\n",
        "\n",
        "# Print value counts for each emotion in the training set\n",
        "print(\"\\nValue Counts in Training Set:\")\n",
        "for emotion in emotions:\n",
        "    print(f\"{emotion}:\\n\", train_data[emotion].value_counts())\n",
        "\n",
        "# Plot distribution of emotions in the train set\n",
        "plt.figure(figsize=(10, 6))\n",
        "sns.barplot(x=emotions, y=train_data[emotions].sum().values)\n",
        "plt.title('Distribution of Emotions in Train Data')\n",
        "plt.ylabel('Count')\n",
        "plt.show()"
      ],
      "metadata": {
        "colab": {
          "base_uri": "https://localhost:8080/",
          "height": 1000
        },
        "id": "ls6vncyn2fzu",
        "outputId": "688a2bd4-5522-4316-c4e9-cb4758ff4e59"
      },
      "execution_count": 3,
      "outputs": [
        {
          "output_type": "stream",
          "name": "stdout",
          "text": [
            "Missing values in training set:\n",
            " text        0\n",
            "Joy         0\n",
            "Fear        0\n",
            "Anger       0\n",
            "Sadness     0\n",
            "Surprise    0\n",
            "dtype: int64\n",
            "Missing values in test set:\n",
            " text        0\n",
            "Joy         0\n",
            "Fear        0\n",
            "Anger       0\n",
            "Sadness     0\n",
            "Surprise    0\n",
            "dtype: int64\n",
            "\n",
            "Value Counts in Training Set:\n",
            "Joy:\n",
            " Joy\n",
            "0    1222\n",
            "1     378\n",
            "Name: count, dtype: int64\n",
            "Fear:\n",
            " Fear\n",
            "1    931\n",
            "0    669\n",
            "Name: count, dtype: int64\n",
            "Anger:\n",
            " Anger\n",
            "0    1405\n",
            "1     195\n",
            "Name: count, dtype: int64\n",
            "Sadness:\n",
            " Sadness\n",
            "0    1097\n",
            "1     503\n",
            "Name: count, dtype: int64\n",
            "Surprise:\n",
            " Surprise\n",
            "0    1107\n",
            "1     493\n",
            "Name: count, dtype: int64\n"
          ]
        },
        {
          "output_type": "display_data",
          "data": {
            "text/plain": [
              "<Figure size 1000x600 with 1 Axes>"
            ],
            "image/png": "[encoded data removed]"
          },
          "metadata": {}
        }
      ]
    },
    {
      "cell_type": "markdown",
      "source": [
        "# Constaints"
      ],
      "metadata": {
        "id": "7tYfk3ml3I9k"
      }
    },
    {
      "cell_type": "code",
      "source": [
        "EMBEDDING_SIZE = 100\n",
        "WINDOW_SIZE = 2\n",
        "LEARNING_RATE = 0.001\n",
        "NUM_EPOCHS = 50\n",
        "NEG_SAMPLES = 5\n",
        "BATCH_SIZE = 512\n",
        "HIDDEN_UNITS = 64\n",
        "BATCH_SIZE = 32\n",
        "\n",
        "EMBEDDINGS_FILE = 'custom_word2vec_embeddings.npy'\n",
        "WORD2IDX_FILE = 'word2idx_mapping.txt'\n"
      ],
      "metadata": {
        "id": "hk8GELb23G0d"
      },
      "execution_count": 4,
      "outputs": []
    },
    {
      "cell_type": "markdown",
      "source": [
        "# Word2Vec Embedding"
      ],
      "metadata": {
        "id": "33QEo_6ws-oa"
      }
    },
    {
      "cell_type": "code",
      "source": [
        "STOP_WORDS = set(stopwords.words('english'))\n",
        "LEMMATIZER = WordNetLemmatizer()\n",
        "\n",
        "# Text cleaning function\n",
        "def clean_text(text):\n",
        "    words = re.sub(r'\\W+', ' ', text.lower()).split()\n",
        "    return [LEMMATIZER.lemmatize(w) for w in words if w not in STOP_WORDS]\n",
        "\n",
        "# Apply cleaning to train data\n",
        "train_data['clean_text'] = train_data['text'].apply(clean_text)\n",
        "\n",
        "# Build vocabulary\n",
        "def build_vocabulary(sentences):\n",
        "    vocab = {word: i for i, (word, _) in enumerate(Counter(chain(*sentences)).items(), 1)}\n",
        "    return vocab, {v: k for k, v in vocab.items()}\n",
        "\n",
        "vocab, inv_vocab = build_vocabulary(train_data['clean_text'].tolist())\n",
        "VOCAB_SIZE = len(vocab)\n",
        "\n",
        "# Generate skip-gram pairs\n",
        "def generate_skipgram_pairs(sentences, vocab):\n",
        "    pairs = []\n",
        "    for sentence in sentences:\n",
        "        sentence = [vocab[word] for word in sentence if word in vocab]\n",
        "        for i, target in enumerate(sentence):\n",
        "            context_window = sentence[max(0, i - WINDOW_SIZE):i] + sentence[i + 1:i + WINDOW_SIZE + 1]\n",
        "            pairs.extend((target, context) for context in context_window)\n",
        "    return pairs\n",
        "\n",
        "# Prepare positive pairs\n",
        "positive_pairs = generate_skipgram_pairs(train_data['clean_text'], vocab)\n",
        "\n",
        "def get_negative_samples(context_word, neg_samples):\n",
        "    return random.sample([i for i in range(1, VOCAB_SIZE + 1) if i != context_word], neg_samples)\n",
        "\n",
        "# Create training data\n",
        "training_data = [(target, context, 1) for target, context in positive_pairs]\n",
        "for target, context in positive_pairs:\n",
        "    negative_contexts = get_negative_samples(context, NEG_SAMPLES)\n",
        "    training_data.extend((target, neg, 0) for neg in negative_contexts)\n",
        "\n",
        "# PyTorch Model\n",
        "class Word2Vec(nn.Module):\n",
        "    def __init__(self, vocab_size, embedding_size):\n",
        "        super(Word2Vec, self).__init__()\n",
        "        self.in_embeddings = nn.Embedding(vocab_size + 1, embedding_size)\n",
        "        self.out_embeddings = nn.Embedding(vocab_size + 1, embedding_size)\n",
        "\n",
        "    def forward(self, target_words, context_words):\n",
        "        target_vectors = self.in_embeddings(target_words)\n",
        "        context_vectors = self.out_embeddings(context_words)\n",
        "        return torch.sum(target_vectors * context_vectors, dim=1)\n",
        "\n",
        "# Initialize model, loss function, and optimizer\n",
        "model = Word2Vec(VOCAB_SIZE, EMBEDDING_SIZE).to(DEVICE)\n",
        "optimizer = optim.Adam(model.parameters(), lr=LEARNING_RATE)\n",
        "loss_fn = nn.BCEWithLogitsLoss()\n",
        "\n",
        "# Convert training data into batches\n",
        "def get_batches(data, batch_size):\n",
        "    random.shuffle(data)\n",
        "    for i in range(0, len(data), batch_size):\n",
        "        yield data[i:i + batch_size]\n",
        "\n",
        "# Prepare batch data as tensors\n",
        "def prepare_batch(batch):\n",
        "    target_words, context_words, labels = zip(*batch)\n",
        "    return (\n",
        "        torch.LongTensor(target_words).to(DEVICE),\n",
        "        torch.LongTensor(context_words).to(DEVICE),\n",
        "        torch.FloatTensor(labels).to(DEVICE)\n",
        "    )\n",
        "\n",
        "# Training loop\n",
        "for epoch in range(NUM_EPOCHS):\n",
        "    total_loss = 0\n",
        "    correct_predictions = 0\n",
        "    total_predictions = 0\n",
        "\n",
        "    for batch in get_batches(training_data, BATCH_SIZE):\n",
        "        target_words, context_words, labels = prepare_batch(batch)\n",
        "        optimizer.zero_grad()\n",
        "\n",
        "        outputs = model(target_words, context_words)\n",
        "        loss = loss_fn(outputs, labels)\n",
        "        loss.backward()\n",
        "        optimizer.step()\n",
        "\n",
        "        total_loss += loss.item()\n",
        "        predictions = torch.sigmoid(outputs) > 0.5\n",
        "        correct_predictions += (predictions == labels).sum().item()\n",
        "        total_predictions += labels.size(0)\n",
        "\n",
        "    accuracy = correct_predictions / total_predictions\n",
        "    print(f'Epoch {epoch + 1}/{NUM_EPOCHS}, Loss: {total_loss:.4f}, Accuracy: {accuracy * 100:.2f}%')\n",
        "\n",
        "# Save embeddings\n",
        "np.save('custom_word2vec_embeddings.npy', model.in_embeddings.weight.detach().cpu().numpy())\n",
        "\n",
        "# Save word-to-index mapping\n",
        "with open('word2idx_mapping.txt', 'w') as f:\n",
        "    for word, idx in vocab.items():\n",
        "        f.write(f\"{word} {idx}\\n\")\n",
        "\n",
        "print(\"Training complete. Embeddings saved!\")\n"
      ],
      "metadata": {
        "colab": {
          "base_uri": "https://localhost:8080/"
        },
        "collapsed": true,
        "id": "B_JoxT4zzn6s",
        "outputId": "a5675afc-e481-4874-89a7-74a5a0e6022c"
      },
      "execution_count": 5,
      "outputs": [
        {
          "output_type": "stream",
          "name": "stdout",
          "text": [
            "Epoch 1/50, Loss: 27466.1272, Accuracy: 50.09%\n",
            "Epoch 2/50, Loss: 18692.5159, Accuracy: 58.31%\n",
            "Epoch 3/50, Loss: 12261.7570, Accuracy: 67.14%\n",
            "Epoch 4/50, Loss: 7740.3255, Accuracy: 75.73%\n",
            "Epoch 5/50, Loss: 4662.2461, Accuracy: 83.49%\n",
            "Epoch 6/50, Loss: 2686.9571, Accuracy: 89.61%\n",
            "Epoch 7/50, Loss: 1528.6806, Accuracy: 93.70%\n",
            "Epoch 8/50, Loss: 907.6911, Accuracy: 96.07%\n",
            "Epoch 9/50, Loss: 592.0848, Accuracy: 97.31%\n",
            "Epoch 10/50, Loss: 430.2954, Accuracy: 97.95%\n",
            "Epoch 11/50, Loss: 348.1115, Accuracy: 98.24%\n",
            "Epoch 12/50, Loss: 302.1407, Accuracy: 98.44%\n",
            "Epoch 13/50, Loss: 275.4337, Accuracy: 98.52%\n",
            "Epoch 14/50, Loss: 261.7712, Accuracy: 98.54%\n",
            "Epoch 15/50, Loss: 252.5888, Accuracy: 98.57%\n",
            "Epoch 16/50, Loss: 248.5837, Accuracy: 98.58%\n",
            "Epoch 17/50, Loss: 244.6955, Accuracy: 98.59%\n",
            "Epoch 18/50, Loss: 241.0648, Accuracy: 98.59%\n",
            "Epoch 19/50, Loss: 241.0937, Accuracy: 98.58%\n",
            "Epoch 20/50, Loss: 238.0985, Accuracy: 98.58%\n",
            "Epoch 21/50, Loss: 238.8348, Accuracy: 98.58%\n",
            "Epoch 22/50, Loss: 236.8430, Accuracy: 98.57%\n",
            "Epoch 23/50, Loss: 237.4543, Accuracy: 98.60%\n",
            "Epoch 24/50, Loss: 236.4311, Accuracy: 98.59%\n",
            "Epoch 25/50, Loss: 234.7520, Accuracy: 98.58%\n",
            "Epoch 26/50, Loss: 234.7442, Accuracy: 98.59%\n",
            "Epoch 27/50, Loss: 234.3393, Accuracy: 98.61%\n",
            "Epoch 28/50, Loss: 234.1164, Accuracy: 98.58%\n",
            "Epoch 29/50, Loss: 233.6975, Accuracy: 98.60%\n",
            "Epoch 30/50, Loss: 234.6616, Accuracy: 98.59%\n",
            "Epoch 31/50, Loss: 233.4655, Accuracy: 98.58%\n",
            "Epoch 32/50, Loss: 233.3031, Accuracy: 98.59%\n",
            "Epoch 33/50, Loss: 232.7286, Accuracy: 98.58%\n",
            "Epoch 34/50, Loss: 232.7389, Accuracy: 98.61%\n",
            "Epoch 35/50, Loss: 232.9752, Accuracy: 98.59%\n",
            "Epoch 36/50, Loss: 233.6509, Accuracy: 98.60%\n",
            "Epoch 37/50, Loss: 230.3713, Accuracy: 98.61%\n",
            "Epoch 38/50, Loss: 232.4462, Accuracy: 98.59%\n",
            "Epoch 39/50, Loss: 232.0565, Accuracy: 98.61%\n",
            "Epoch 40/50, Loss: 231.3285, Accuracy: 98.60%\n",
            "Epoch 41/50, Loss: 232.2972, Accuracy: 98.60%\n",
            "Epoch 42/50, Loss: 230.7238, Accuracy: 98.60%\n",
            "Epoch 43/50, Loss: 230.8550, Accuracy: 98.59%\n",
            "Epoch 44/50, Loss: 230.0424, Accuracy: 98.59%\n",
            "Epoch 45/50, Loss: 231.5178, Accuracy: 98.62%\n",
            "Epoch 46/50, Loss: 230.0281, Accuracy: 98.60%\n",
            "Epoch 47/50, Loss: 230.2409, Accuracy: 98.58%\n",
            "Epoch 48/50, Loss: 229.4974, Accuracy: 98.60%\n",
            "Epoch 49/50, Loss: 230.7831, Accuracy: 98.59%\n",
            "Epoch 50/50, Loss: 229.2234, Accuracy: 98.61%\n",
            "Training complete. Embeddings saved!\n"
          ]
        }
      ]
    },
    {
      "cell_type": "markdown",
      "source": [
        "# Train final"
      ],
      "metadata": {
        "id": "gL3QS6M7vNWs"
      }
    },
    {
      "cell_type": "code",
      "source": [
        "\n",
        "# URLs for the embeddings and word2idx mapping\n",
        "EMBEDDINGS_URL = \"https://github.com/SushovitNanda/nlp_assignment/raw/main/custom_word2vec_embeddings.npy\"\n",
        "WORD2IDX_URL = \"https://github.com/SushovitNanda/nlp_assignment/raw/main/word2idx_mapping.txt\"\n",
        "\n",
        "# Load embeddings directly from URL\n",
        "response = requests.get(EMBEDDINGS_URL)\n",
        "embeddings = np.load(io.BytesIO(response.content))  # Load from in-memory byte stream\n",
        "\n",
        "# Load word2idx mapping from URL\n",
        "response = requests.get(WORD2IDX_URL)\n",
        "word2idx = {line.split()[0]: int(line.split()[1]) for line in response.text.splitlines()}\n",
        "\n",
        "# Load train dataset\n",
        "sentences = train_data.iloc[:, 0].tolist()  # First column is sentences\n",
        "\n",
        "# Ensure labels are numeric by using pd.to_numeric and converting to torch.Tensor\n",
        "labels = train_data.iloc[:, 1:].apply(pd.to_numeric, errors='coerce').fillna(0).values  # Convert to numeric, fill NaNs\n",
        "labels = torch.Tensor(labels).to(device)\n",
        "\n",
        "# Convert sentences to embeddings by averaging word embeddings\n",
        "def sentence_to_embedding(sentence, word2idx, embeddings):\n",
        "    tokens = word_tokenize(sentence.lower())\n",
        "    word_indices = [word2idx[word] for word in tokens if word in word2idx]\n",
        "    return np.mean(embeddings[word_indices], axis=0) if word_indices else np.zeros(embeddings.shape[1])\n",
        "\n",
        "# Convert all sentences to sentence embeddings\n",
        "sentence_embeddings = torch.Tensor([sentence_to_embedding(sentence, word2idx, embeddings) for sentence in sentences]).to(device)\n",
        "\n",
        "# Define FFNN model for multi-label classification\n",
        "class FFNN(nn.Module):\n",
        "    def __init__(self, input_size, hidden_units, output_size):\n",
        "        super(FFNN, self).__init__()\n",
        "        self.model = nn.Sequential(\n",
        "            nn.Linear(input_size, hidden_units),\n",
        "            nn.ReLU(),\n",
        "            nn.Linear(hidden_units, hidden_units),\n",
        "            nn.ReLU(),\n",
        "            nn.Linear(hidden_units, hidden_units),\n",
        "            nn.ReLU(),\n",
        "            nn.Linear(hidden_units, output_size),\n",
        "            nn.Sigmoid()\n",
        "        )\n",
        "\n",
        "    def forward(self, x):\n",
        "        return self.model(x)\n",
        "\n",
        "# Hyperparameters\n",
        "input_size = embeddings.shape[1]  # Embedding size (e.g., 100)\n",
        "output_size = labels.shape[1]     # Number of classes (5 emotions)\n",
        "\n",
        "# Initialize the FFNN model\n",
        "model = FFNN(input_size, HIDDEN_UNITS, output_size).to(device)\n",
        "criterion = nn.BCELoss()  # Binary cross-entropy for multi-label classification\n",
        "optimizer = optim.Adam(model.parameters(), lr=LEARNING_RATE)\n",
        "\n",
        "# Training loop\n",
        "def train_model(model, sentence_embeddings, labels, num_epochs, batch_size):\n",
        "    for epoch in range(num_epochs):\n",
        "        total_loss, correct_predictions, total_samples = 0, 0, 0\n",
        "        model.train()  # Set model to training mode\n",
        "        permutation = torch.randperm(sentence_embeddings.size(0))\n",
        "\n",
        "        for i in range(0, sentence_embeddings.size(0), batch_size):\n",
        "            indices = permutation[i:i + batch_size]\n",
        "            batch_inputs, batch_labels = sentence_embeddings[indices], labels[indices]\n",
        "\n",
        "            # Forward pass\n",
        "            outputs = model(batch_inputs)\n",
        "            loss = criterion(outputs, batch_labels)\n",
        "\n",
        "            # Backward pass and optimization\n",
        "            optimizer.zero_grad()\n",
        "            loss.backward()\n",
        "            optimizer.step()\n",
        "\n",
        "            total_loss += loss.item()\n",
        "\n",
        "            # Accuracy calculation\n",
        "            predictions = (outputs > 0.5).float()\n",
        "            correct_predictions += (predictions == batch_labels).sum().item()\n",
        "            total_samples += batch_labels.numel()\n",
        "\n",
        "        accuracy = correct_predictions / total_samples\n",
        "        print(f'Epoch {epoch + 1}/{num_epochs}, Loss: {total_loss:.4f}, Accuracy: {accuracy:.4f}')\n",
        "\n",
        "# Train the model\n",
        "train_model(model, sentence_embeddings, labels, NUM_EPOCHS, BATCH_SIZE)\n",
        "\n",
        "# Save the trained model\n",
        "torch.save(model.state_dict(), 'ffnn_multilabel_model.pth')\n"
      ],
      "metadata": {
        "id": "piJ0TpM30Zqj",
        "colab": {
          "base_uri": "https://localhost:8080/"
        },
        "collapsed": true,
        "outputId": "40c106ea-6714-4c56-fe4f-bb8b1232bcb4"
      },
      "execution_count": 12,
      "outputs": [
        {
          "output_type": "stream",
          "name": "stderr",
          "text": [
            "<ipython-input-12-26f68b7d5a91>:27: UserWarning: Creating a tensor from a list of numpy.ndarrays is extremely slow. Please consider converting the list to a single numpy.ndarray with numpy.array() before converting to a tensor. (Triggered internally at ../torch/csrc/utils/tensor_new.cpp:278.)\n",
            "  sentence_embeddings = torch.Tensor([sentence_to_embedding(sentence, word2idx, embeddings) for sentence in sentences]).to(device)\n"
          ]
        },
        {
          "output_type": "stream",
          "name": "stdout",
          "text": [
            "Epoch 1/50, Loss: 27.9572, Accuracy: 0.7483\n",
            "Epoch 2/50, Loss: 23.7514, Accuracy: 0.7669\n",
            "Epoch 3/50, Loss: 23.4396, Accuracy: 0.7666\n",
            "Epoch 4/50, Loss: 23.1932, Accuracy: 0.7675\n",
            "Epoch 5/50, Loss: 22.8387, Accuracy: 0.7723\n",
            "Epoch 6/50, Loss: 22.3711, Accuracy: 0.7773\n",
            "Epoch 7/50, Loss: 21.9483, Accuracy: 0.7833\n",
            "Epoch 8/50, Loss: 21.4150, Accuracy: 0.7891\n",
            "Epoch 9/50, Loss: 20.9605, Accuracy: 0.7993\n",
            "Epoch 10/50, Loss: 20.3727, Accuracy: 0.8021\n",
            "Epoch 11/50, Loss: 19.8383, Accuracy: 0.8092\n",
            "Epoch 12/50, Loss: 19.1754, Accuracy: 0.8178\n",
            "Epoch 13/50, Loss: 18.4996, Accuracy: 0.8246\n",
            "Epoch 14/50, Loss: 17.7061, Accuracy: 0.8353\n",
            "Epoch 15/50, Loss: 17.0124, Accuracy: 0.8428\n",
            "Epoch 16/50, Loss: 16.1997, Accuracy: 0.8497\n",
            "Epoch 17/50, Loss: 15.3411, Accuracy: 0.8624\n",
            "Epoch 18/50, Loss: 14.6718, Accuracy: 0.8703\n",
            "Epoch 19/50, Loss: 14.0018, Accuracy: 0.8789\n",
            "Epoch 20/50, Loss: 13.2339, Accuracy: 0.8841\n",
            "Epoch 21/50, Loss: 12.4776, Accuracy: 0.8940\n",
            "Epoch 22/50, Loss: 12.0101, Accuracy: 0.8990\n",
            "Epoch 23/50, Loss: 11.6053, Accuracy: 0.9019\n",
            "Epoch 24/50, Loss: 10.8769, Accuracy: 0.9109\n",
            "Epoch 25/50, Loss: 10.2963, Accuracy: 0.9170\n",
            "Epoch 26/50, Loss: 9.6598, Accuracy: 0.9246\n",
            "Epoch 27/50, Loss: 9.2500, Accuracy: 0.9258\n",
            "Epoch 28/50, Loss: 8.6754, Accuracy: 0.9327\n",
            "Epoch 29/50, Loss: 8.2728, Accuracy: 0.9346\n",
            "Epoch 30/50, Loss: 7.8139, Accuracy: 0.9411\n",
            "Epoch 31/50, Loss: 7.4841, Accuracy: 0.9422\n",
            "Epoch 32/50, Loss: 7.0316, Accuracy: 0.9487\n",
            "Epoch 33/50, Loss: 7.0639, Accuracy: 0.9466\n",
            "Epoch 34/50, Loss: 6.5492, Accuracy: 0.9527\n",
            "Epoch 35/50, Loss: 6.1609, Accuracy: 0.9556\n",
            "Epoch 36/50, Loss: 5.7409, Accuracy: 0.9594\n",
            "Epoch 37/50, Loss: 5.3315, Accuracy: 0.9644\n",
            "Epoch 38/50, Loss: 4.9619, Accuracy: 0.9658\n",
            "Epoch 39/50, Loss: 4.7176, Accuracy: 0.9686\n",
            "Epoch 40/50, Loss: 4.5611, Accuracy: 0.9700\n",
            "Epoch 41/50, Loss: 4.5859, Accuracy: 0.9690\n",
            "Epoch 42/50, Loss: 4.3377, Accuracy: 0.9712\n",
            "Epoch 43/50, Loss: 4.2589, Accuracy: 0.9705\n",
            "Epoch 44/50, Loss: 3.8156, Accuracy: 0.9744\n",
            "Epoch 45/50, Loss: 3.5268, Accuracy: 0.9782\n",
            "Epoch 46/50, Loss: 3.3353, Accuracy: 0.9799\n",
            "Epoch 47/50, Loss: 3.2098, Accuracy: 0.9801\n",
            "Epoch 48/50, Loss: 3.3135, Accuracy: 0.9792\n",
            "Epoch 49/50, Loss: 3.1719, Accuracy: 0.9815\n",
            "Epoch 50/50, Loss: 3.0519, Accuracy: 0.9804\n"
          ]
        }
      ]
    },
    {
      "cell_type": "markdown",
      "metadata": {
        "id": "exBrr5ShW3Hw"
      },
      "source": [
        "# inference final"
      ]
    },
    {
      "cell_type": "code",
      "source": [
        "# URLs for the embeddings, word2idx mapping, and trained model\n",
        "EMBEDDINGS_URL = \"https://github.com/SushovitNanda/nlp_assignment/raw/main/custom_word2vec_embeddings.npy\"\n",
        "WORD2IDX_URL = \"https://github.com/SushovitNanda/nlp_assignment/raw/main/word2idx_mapping.txt\"\n",
        "MODEL_URL = \"https://github.com/SushovitNanda/nlp_assignment/raw/main/ffnn_multilabel_model.pth\"\n",
        "\n",
        "# Load embeddings directly from URL\n",
        "response = requests.get(EMBEDDINGS_URL)\n",
        "embeddings = np.load(io.BytesIO(response.content))  # Load from in-memory byte stream\n",
        "\n",
        "# Load word2idx mapping from URL\n",
        "response = requests.get(WORD2IDX_URL)\n",
        "word2idx = {line.split()[0]: int(line.split()[1]) for line in response.text.splitlines()}\n",
        "\n",
        "# Load pre-trained model from URL\n",
        "response = requests.get(MODEL_URL)\n",
        "model_data = io.BytesIO(response.content)  # Use in-memory byte stream for the model\n",
        "\n",
        "def sentence_to_embedding(sentence, word2idx, embeddings):\n",
        "    tokens = word_tokenize(sentence.lower())\n",
        "    word_indices = [word2idx[word] for word in tokens if word in word2idx]\n",
        "    return np.mean(embeddings[word_indices], axis=0) if word_indices else np.zeros(embeddings.shape[1])\n",
        "\n",
        "# Convert all test sentences to embeddings\n",
        "test_sentence_embeddings = np.array([sentence_to_embedding(sentence, word2idx, embeddings) for sentence in test_data['text']])\n",
        "test_labels = test_data[['Joy', 'Fear', 'Anger', 'Sadness', 'Surprise']].values\n",
        "\n",
        "# Convert test data to tensors\n",
        "test_sentence_embeddings = torch.Tensor(test_sentence_embeddings).to(device)\n",
        "test_labels = torch.Tensor(test_labels).to(device)\n",
        "\n",
        "# Define FFNN model (match output size to the saved model's 6 outputs)\n",
        "class FFNN(nn.Module):\n",
        "    def __init__(self, input_size, hidden_units, output_size=6):  # Set output_size to 6\n",
        "        super(FFNN, self).__init__()\n",
        "        self.model = nn.Sequential(\n",
        "            nn.Linear(input_size, hidden_units),\n",
        "            nn.ReLU(),\n",
        "            nn.Linear(hidden_units, hidden_units),\n",
        "            nn.ReLU(),\n",
        "            nn.Linear(hidden_units, hidden_units),\n",
        "            nn.ReLU(),\n",
        "            nn.Linear(hidden_units, output_size),  # 6 output units to match checkpoint\n",
        "            nn.Sigmoid()\n",
        "        )\n",
        "\n",
        "    def forward(self, x):\n",
        "        return self.model(x)\n",
        "\n",
        "# Model parameters\n",
        "input_size = embeddings.shape[1]  # Embedding size (e.g., 100)\n",
        "output_size = 6  # Model expects 6 output classes\n",
        "\n",
        "# Load the trained model\n",
        "model = FFNN(input_size, HIDDEN_UNITS, output_size)\n",
        "model.load_state_dict(torch.load(model_data, map_location=device))  # Load model directly from memory\n",
        "model.to(device)\n",
        "model.eval()\n",
        "\n",
        "# Prepare DataLoader\n",
        "test_dataset = TensorDataset(test_sentence_embeddings, test_labels)\n",
        "test_loader = DataLoader(test_dataset, batch_size=BATCH_SIZE, shuffle=False)\n",
        "\n",
        "# Evaluate the model\n",
        "def evaluate_model(model, test_loader, device):\n",
        "    all_targets = []\n",
        "    all_predictions = []\n",
        "\n",
        "    with torch.no_grad():\n",
        "        for inputs, labels in test_loader:\n",
        "            inputs, labels = inputs.to(device), labels.to(device)\n",
        "            outputs = model(inputs)\n",
        "\n",
        "            all_targets.append(labels.cpu().numpy())\n",
        "            all_predictions.append(outputs.detach().cpu().numpy())\n",
        "\n",
        "    # Concatenate all predictions and targets\n",
        "    all_targets = np.vstack(all_targets)\n",
        "    all_predictions = np.vstack(all_predictions)\n",
        "\n",
        "    # Slice off the extra class from predictions (we assume the last class is the extra one)\n",
        "    all_predictions = all_predictions[:, :5]\n",
        "\n",
        "    # Threshold the predictions at 0.5\n",
        "    predictions_binary = (all_predictions > 0.5).astype(int)\n",
        "\n",
        "    # Compute Macro F1-score and classification report\n",
        "    f1_macro = f1_score(all_targets, predictions_binary, average='macro', zero_division=0)\n",
        "    class_names = ['Joy', 'Fear', 'Anger', 'Sadness', 'Surprise']\n",
        "    classification_rep = classification_report(all_targets, predictions_binary, target_names=class_names, zero_division=0)\n",
        "\n",
        "    print(f\"Macro F1-Score: {f1_macro:.4f}\")\n",
        "    print(\"\\nClassification Report:\")\n",
        "    print(classification_rep)\n",
        "\n",
        "# Main function to run the evaluation\n",
        "def main():\n",
        "    evaluate_model(model, test_loader, device)\n",
        "\n",
        "if __name__ == \"__main__\":\n",
        "    main()\n"
      ],
      "metadata": {
        "id": "WYh-qsAhxtCW",
        "colab": {
          "base_uri": "https://localhost:8080/"
        },
        "outputId": "f9f32dbc-8317-4492-dca8-57d4a67f1d36"
      },
      "execution_count": 14,
      "outputs": [
        {
          "output_type": "stream",
          "name": "stdout",
          "text": [
            "Macro F1-Score: 0.3579\n",
            "\n",
            "Classification Report:\n",
            "              precision    recall  f1-score   support\n",
            "\n",
            "         Joy       0.25      0.18      0.21        94\n",
            "        Fear       0.61      0.65      0.63       232\n",
            "       Anger       0.23      0.17      0.20        52\n",
            "     Sadness       0.35      0.33      0.34       126\n",
            "    Surprise       0.40      0.42      0.41       124\n",
            "\n",
            "   micro avg       0.45      0.43      0.44       628\n",
            "   macro avg       0.37      0.35      0.36       628\n",
            "weighted avg       0.43      0.43      0.43       628\n",
            " samples avg       0.38      0.38      0.35       628\n",
            "\n"
          ]
        },
        {
          "output_type": "stream",
          "name": "stderr",
          "text": [
            "<ipython-input-14-7b6d95de0f63>:55: FutureWarning: You are using `torch.load` with `weights_only=False` (the current default value), which uses the default pickle module implicitly. It is possible to construct malicious pickle data which will execute arbitrary code during unpickling (See https://github.com/pytorch/pytorch/blob/main/SECURITY.md#untrusted-models for more details). In a future release, the default value for `weights_only` will be flipped to `True`. This limits the functions that could be executed during unpickling. Arbitrary objects will no longer be allowed to be loaded via this mode unless they are explicitly allowlisted by the user via `torch.serialization.add_safe_globals`. We recommend you start setting `weights_only=True` for any use case where you don't have full control of the loaded file. Please open an issue on GitHub for any issues related to this experimental feature.\n",
            "  model.load_state_dict(torch.load(model_data, map_location=device))  # Load model directly from memory\n"
          ]
        }
      ]
    },
    {
      "cell_type": "code",
      "source": [],
      "metadata": {
        "id": "MdKf_pLOH7Kn"
      },
      "execution_count": null,
      "outputs": []
    }
  ],
  "metadata": {
    "colab": {
      "collapsed_sections": [
        "QcoelGcx1iqj",
        "l5xid6kX2Gg_",
        "ovkY2Vog2h1x",
        "7tYfk3ml3I9k",
        "33QEo_6ws-oa"
      ],
      "provenance": []
    },
    "kernelspec": {
      "display_name": "Python 3",
      "name": "python3"
    },
    "language_info": {
      "name": "python"
    }
  },
  "nbformat": 4,
  "nbformat_minor": 0
}